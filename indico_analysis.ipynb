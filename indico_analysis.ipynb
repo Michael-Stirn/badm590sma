{
 "cells": [
  {
   "cell_type": "code",
   "execution_count": 1,
   "metadata": {
    "collapsed": true
   },
   "outputs": [],
   "source": [
    "# You will need to pip install indicoio for this notebook\n",
    "# Run from your bash the exporting of your API key\n",
    "# Example is in the line below. You have to put this in bash!\n",
    "# $ export INDICO_KEY=\"<Insert the actual Indico key here>\""
   ]
  },
  {
   "cell_type": "code",
   "execution_count": 32,
   "metadata": {
    "collapsed": true
   },
   "outputs": [],
   "source": [
    "import os\n",
    "import sys\n",
    "import indicoio\n",
    "import random\n",
    "import statistics"
   ]
  },
  {
   "cell_type": "code",
   "execution_count": 24,
   "metadata": {
    "collapsed": false
   },
   "outputs": [],
   "source": [
    "# Set Indico Key\n",
    "try:\n",
    "    indico_key = os.environ['INDICO_KEY']\n",
    "except KeyError:\n",
    "    sys.stderr.write(\"INDICO* environment variables not set\\n\")\n",
    "    \n",
    "indicoio.config.api_key = indico_key"
   ]
  },
  {
   "cell_type": "code",
   "execution_count": 25,
   "metadata": {
    "collapsed": false
   },
   "outputs": [],
   "source": [
    "# Grab the social data column\n",
    "import pandas\n",
    "data = pandas.read_csv('user_timeline_Illinois_Alma.csv')\n",
    "sociallist = data['Tweet']\n",
    "\n",
    "# Pick 30 tweets randomly for analysis\n",
    "randomlist = random.sample(range(len(sociallist)),100)\n",
    "\n",
    "analysislist = []\n",
    "\n",
    "for number in randomlist:\n",
    "    analysislist.append(sociallist[number])"
   ]
  },
  {
   "cell_type": "code",
   "execution_count": 26,
   "metadata": {
    "collapsed": true
   },
   "outputs": [],
   "source": [
    "# Sentiment Analysis"
   ]
  },
  {
   "cell_type": "code",
   "execution_count": 28,
   "metadata": {
    "collapsed": false
   },
   "outputs": [],
   "source": [
    "sentimentlist = indicoio.sentiment_hq(analysislist)"
   ]
  },
  {
   "cell_type": "code",
   "execution_count": 35,
   "metadata": {
    "collapsed": false
   },
   "outputs": [
    {
     "data": {
      "text/plain": [
       "0.679197728487"
      ]
     },
     "execution_count": 35,
     "metadata": {},
     "output_type": "execute_result"
    }
   ],
   "source": [
    "# Output the average of the sentiment rating across the randomly sampled\n",
    "# 100 tweets from your corpus\n",
    "# The scale for sentiment is:\n",
    "# 0 - Extremely Negative\n",
    "# 0.5 - Midpoint\n",
    "# 1.0 - Extremely Positive\n",
    "\n",
    "statistics.mean(sentimentlist)"
   ]
  },
  {
   "cell_type": "code",
   "execution_count": 36,
   "metadata": {
    "collapsed": true
   },
   "outputs": [],
   "source": [
    "# Emotion Analysis"
   ]
  },
  {
   "cell_type": "code",
   "execution_count": 37,
   "metadata": {
    "collapsed": true
   },
   "outputs": [],
   "source": [
    "emotionlist = indicoio.emotion(analysislist)"
   ]
  },
  {
   "cell_type": "code",
   "execution_count": 46,
   "metadata": {
    "collapsed": false
   },
   "outputs": [
    {
     "name": "stdout",
     "output_type": "stream",
     "text": [
      "The average probabilities of the emotions in our randomly sampled set are as follows:\n",
      "Anger: 0.1043039597\n",
      "Fear: 0.223089533779\n",
      "Joy: 0.257536802549\n",
      "Sadness: 0.308491501788\n",
      "Surprise: 0.10657820164000001\n"
     ]
    }
   ],
   "source": [
    "# Output averages for emotions\n",
    "angerlist = []\n",
    "fearlist = []\n",
    "joylist = []\n",
    "sadnesslist = []\n",
    "surpriselist = []\n",
    "\n",
    "for item in emotionlist:\n",
    "    angerlist.append(item['anger'])\n",
    "    fearlist.append(item['fear'])\n",
    "    joylist.append(item['joy'])\n",
    "    sadnesslist.append(item['sadness'])\n",
    "    surpriselist.append(item['surprise'])\n",
    "\n",
    "print(\"The average probabilities of the emotions in our randomly sampled set are as follows:\")\n",
    "print(\"Anger:\", statistics.mean(angerlist))\n",
    "print(\"Fear:\", statistics.mean(fearlist))\n",
    "print(\"Joy:\", statistics.mean(joylist))\n",
    "print(\"Sadness:\", statistics.mean(sadnesslist))\n",
    "print(\"Surprise:\", statistics.mean(surpriselist))"
   ]
  },
  {
   "cell_type": "code",
   "execution_count": null,
   "metadata": {
    "collapsed": true
   },
   "outputs": [],
   "source": []
  }
 ],
 "metadata": {
  "anaconda-cloud": {},
  "kernelspec": {
   "display_name": "Python [conda root]",
   "language": "python",
   "name": "conda-root-py"
  },
  "language_info": {
   "codemirror_mode": {
    "name": "ipython",
    "version": 3
   },
   "file_extension": ".py",
   "mimetype": "text/x-python",
   "name": "python",
   "nbconvert_exporter": "python",
   "pygments_lexer": "ipython3",
   "version": "3.5.2"
  }
 },
 "nbformat": 4,
 "nbformat_minor": 1
}
