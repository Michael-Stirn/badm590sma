{
 "cells": [
  {
   "cell_type": "code",
   "execution_count": 1,
   "metadata": {
    "collapsed": true
   },
   "outputs": [],
   "source": [
    "# This is a Jupyter notebook that we are using for BADM590SMA. It will contain many scripts that are\n",
    "# directly from the Bonzanini textbook. His GitHub can be found at:\n",
    "# https://github.com/bonzanini/Book-SocialMediaMiningPython. His scripts will be cited here, but we (or you)\n",
    "# may modify parts of his scripts as needed."
   ]
  },
  {
   "cell_type": "code",
   "execution_count": 1,
   "metadata": {
    "collapsed": true
   },
   "outputs": [],
   "source": [
    "import os\n",
    "import sys\n",
    "import tweepy\n",
    "from tweepy import API\n",
    "from tweepy import OAuthHandler"
   ]
  },
  {
   "cell_type": "code",
   "execution_count": 8,
   "metadata": {
    "collapsed": true
   },
   "outputs": [],
   "source": [
    "# Insert the Twitter handle that you are analyzing for this notebook\n",
    "twitterhandle = 'realDonaldTrump'"
   ]
  },
  {
   "cell_type": "code",
   "execution_count": 2,
   "metadata": {
    "collapsed": false
   },
   "outputs": [],
   "source": [
    "def get_twitter_auth():\n",
    "    \"\"\"Setup Twitter authentication.\n",
    "\n",
    "    Return: tweepy.OAuthHandler object\n",
    "    \"\"\"\n",
    "    try:\n",
    "        consumer_key = os.environ['TWITTER_CONSUMER_KEY']\n",
    "        consumer_secret = os.environ['TWITTER_CONSUMER_SECRET']\n",
    "        access_token = os.environ['TWITTER_ACCESS_TOKEN']\n",
    "        access_secret = os.environ['TWITTER_ACCESS_SECRET']\n",
    "    except KeyError:\n",
    "        sys.stderr.write(\"TWITTER_* environment variables not set\\n\")\n",
    "        sys.exit(1)    \n",
    "    auth = OAuthHandler(consumer_key, consumer_secret)\n",
    "    auth.set_access_token(access_token, access_secret)\n",
    "    return auth"
   ]
  },
  {
   "cell_type": "code",
   "execution_count": 3,
   "metadata": {
    "collapsed": true
   },
   "outputs": [],
   "source": [
    "def get_twitter_client():\n",
    "    \"\"\"Setup Twitter API client.\n",
    "\n",
    "    Return: tweepy.API object\n",
    "    \"\"\"\n",
    "    auth = get_twitter_auth()\n",
    "    client = API(auth)\n",
    "    return client"
   ]
  },
  {
   "cell_type": "code",
   "execution_count": 4,
   "metadata": {
    "collapsed": true
   },
   "outputs": [],
   "source": [
    "#######################################################################\n",
    "# Getting recent tweets from a user's timeline (Rest API)\n",
    "#######################################################################"
   ]
  },
  {
   "cell_type": "code",
   "execution_count": 5,
   "metadata": {
    "collapsed": false
   },
   "outputs": [],
   "source": [
    "# Chap02-03/twitter_get_user_timeline.py\n",
    "import sys\n",
    "import json\n",
    "from tweepy import Cursor\n",
    "\n",
    "user = twitterhandle # Change this user name to whatever you want\n",
    "client = get_twitter_client()\n",
    "\n",
    "fname = \"user_timeline_{}.jsonl\".format(user)\n",
    "with open(fname, 'w') as f:\n",
    "    for page in Cursor(client.user_timeline, screen_name=user, count=200).pages(16):\n",
    "        for status in page:\n",
    "            f.write(json.dumps(status._json)+\"\\n\")"
   ]
  },
  {
   "cell_type": "code",
   "execution_count": 6,
   "metadata": {
    "collapsed": true
   },
   "outputs": [],
   "source": [
    "#######################################################################\n",
    "# Analyzing hastag frequencies for the user timeline pulled above\n",
    "#######################################################################"
   ]
  },
  {
   "cell_type": "code",
   "execution_count": 9,
   "metadata": {
    "collapsed": false
   },
   "outputs": [
    {
     "name": "stdout",
     "output_type": "stream",
     "text": [
      "trump2016: 172\n",
      "makeamericagreatagain: 158\n",
      "maga: 112\n",
      "americafirst: 81\n",
      "draintheswamp: 78\n",
      "imwithyou: 62\n",
      "bigleaguetruth: 58\n",
      "debate: 47\n",
      "crookedhillary: 38\n",
      "trumppence16: 34\n",
      "votetrump: 33\n",
      "trumptrain: 28\n",
      "icymi: 25\n",
      "debates2016: 24\n",
      "vpdebate: 19\n",
      "debates: 16\n",
      "rncincle: 15\n",
      "wiprimary: 13\n",
      "thankyoutour2016: 12\n",
      "debatenight: 11\n"
     ]
    }
   ],
   "source": [
    "# Chap02-03/twitter_hashtag_frequency.py \n",
    "import sys \n",
    "from collections import Counter \n",
    "import json \n",
    "\n",
    "user = twitterhandle # Change this user name to whatever you want\n",
    "fname = \"user_timeline_{}.jsonl\".format(user)\n",
    "\n",
    "\n",
    "def get_hashtags(tweet): \n",
    "  entities = tweet.get('entities', {}) \n",
    "  hashtags = entities.get('hashtags', []) \n",
    "  return [tag['text'].lower() for tag in hashtags]\n",
    "\n",
    "with open(fname, 'r') as f: \n",
    "    hashtags = Counter() \n",
    "    for line in f: \n",
    "        tweet = json.loads(line) \n",
    "        hashtags_in_tweet = get_hashtags(tweet) \n",
    "        hashtags.update(hashtags_in_tweet) \n",
    "    for tag, count in hashtags.most_common(20): \n",
    "        print(\"{}: {}\".format(tag, count))"
   ]
  },
  {
   "cell_type": "code",
   "execution_count": null,
   "metadata": {
    "collapsed": true
   },
   "outputs": [],
   "source": [
    "#######################################################################\n",
    "# Analyzing hastag stats for the user timeline pulled above\n",
    "#######################################################################"
   ]
  },
  {
   "cell_type": "code",
   "execution_count": 10,
   "metadata": {
    "collapsed": false
   },
   "outputs": [
    {
     "name": "stdout",
     "output_type": "stream",
     "text": [
      "2277 tweets without hashtags (71.16%)\n",
      "923 tweets with at least one hashtag (28.84%)\n",
      "544 tweets with 1 hashtags (17.00% total, 58.94% elite)\n",
      "317 tweets with 2 hashtags (9.91% total, 34.34% elite)\n",
      "49 tweets with 3 hashtags (1.53% total, 5.31% elite)\n",
      "9 tweets with 4 hashtags (0.28% total, 0.98% elite)\n",
      "1 tweets with 5 hashtags (0.03% total, 0.11% elite)\n",
      "2 tweets with 6 hashtags (0.06% total, 0.22% elite)\n",
      "1 tweets with 8 hashtags (0.03% total, 0.11% elite)\n"
     ]
    }
   ],
   "source": [
    "# Chap02-03/twitter_hashtag_stats.py\n",
    "import sys\n",
    "from collections import defaultdict\n",
    "import json\n",
    "\n",
    "with open(fname, 'r') as f:\n",
    "    hashtag_count = defaultdict(int)\n",
    "    for line in f:\n",
    "        tweet = json.loads(line)\n",
    "        hashtags_in_tweet = get_hashtags(tweet)\n",
    "        n_of_hashtags = len(hashtags_in_tweet)\n",
    "        hashtag_count[n_of_hashtags] += 1\n",
    "        \n",
    "    tweets_with_hashtags = sum([count for n_of_tags, count in hashtag_count.items() if n_of_tags > 0])\n",
    "    tweets_no_hashtags = hashtag_count[0]\n",
    "    tweets_total = tweets_no_hashtags + tweets_with_hashtags\n",
    "    tweets_with_hashtags_percent = \"%.2f\" % (tweets_with_hashtags / tweets_total * 100)\n",
    "    tweets_no_hashtags_percent = \"%.2f\" % (tweets_no_hashtags / tweets_total * 100)\n",
    "    print(\"{} tweets without hashtags ({}%)\".format(tweets_no_hashtags, tweets_no_hashtags_percent))\n",
    "    print(\"{} tweets with at least one hashtag ({}%)\".format(tweets_with_hashtags, tweets_with_hashtags_percent))\n",
    "\n",
    "    for tag_count, tweet_count in hashtag_count.items():\n",
    "        if tag_count > 0:\n",
    "            percent_total = \"%.2f\" % (tweet_count / tweets_total * 100)\n",
    "            percent_elite = \"%.2f\" % (tweet_count / tweets_with_hashtags * 100)\n",
    "            print(\"{} tweets with {} hashtags ({}% total, {}% elite)\".format(tweet_count, tag_count, percent_total, percent_elite))"
   ]
  },
  {
   "cell_type": "code",
   "execution_count": null,
   "metadata": {
    "collapsed": true
   },
   "outputs": [],
   "source": []
  }
 ],
 "metadata": {
  "anaconda-cloud": {},
  "kernelspec": {
   "display_name": "Python [conda root]",
   "language": "python",
   "name": "conda-root-py"
  },
  "language_info": {
   "codemirror_mode": {
    "name": "ipython",
    "version": 3
   },
   "file_extension": ".py",
   "mimetype": "text/x-python",
   "name": "python",
   "nbconvert_exporter": "python",
   "pygments_lexer": "ipython3",
   "version": "3.5.2"
  }
 },
 "nbformat": 4,
 "nbformat_minor": 1
}
