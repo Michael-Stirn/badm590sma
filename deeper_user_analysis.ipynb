{
 "cells": [
  {
   "cell_type": "code",
   "execution_count": 1,
   "metadata": {
    "collapsed": true
   },
   "outputs": [],
   "source": [
    "# This is a Jupyter notebook that we are using for BADM590SMA. It will contain many scripts that are\n",
    "# directly from the Bonzanini textbook. His GitHub can be found at:\n",
    "# https://github.com/bonzanini/Book-SocialMediaMiningPython. His scripts will be cited here, but we (or you)\n",
    "# may modify parts of his scripts as needed."
   ]
  },
  {
   "cell_type": "code",
   "execution_count": 2,
   "metadata": {
    "collapsed": true
   },
   "outputs": [],
   "source": [
    "import os\n",
    "import sys\n",
    "import tweepy\n",
    "from tweepy import API\n",
    "from tweepy import OAuthHandler"
   ]
  },
  {
   "cell_type": "code",
   "execution_count": 3,
   "metadata": {
    "collapsed": false
   },
   "outputs": [],
   "source": [
    "def get_twitter_auth():\n",
    "    \"\"\"Setup Twitter authentication.\n",
    "\n",
    "    Return: tweepy.OAuthHandler object\n",
    "    \"\"\"\n",
    "    try:\n",
    "        consumer_key = os.environ['TWITTER_CONSUMER_KEY']\n",
    "        consumer_secret = os.environ['TWITTER_CONSUMER_SECRET']\n",
    "        access_token = os.environ['TWITTER_ACCESS_TOKEN']\n",
    "        access_secret = os.environ['TWITTER_ACCESS_SECRET']\n",
    "    except KeyError:\n",
    "        sys.stderr.write(\"TWITTER_* environment variables not set\\n\")\n",
    "        sys.exit(1)    \n",
    "    auth = OAuthHandler(consumer_key, consumer_secret)\n",
    "    auth.set_access_token(access_token, access_secret)\n",
    "    return auth"
   ]
  },
  {
   "cell_type": "code",
   "execution_count": 4,
   "metadata": {
    "collapsed": true
   },
   "outputs": [],
   "source": [
    "def get_twitter_client():\n",
    "    \"\"\"Setup Twitter API client.\n",
    "\n",
    "    Return: tweepy.API object\n",
    "    \"\"\"\n",
    "    auth = get_twitter_auth()\n",
    "    client = API(auth)\n",
    "    return client"
   ]
  },
  {
   "cell_type": "code",
   "execution_count": 5,
   "metadata": {
    "collapsed": true
   },
   "outputs": [],
   "source": [
    "#######################################################################\n",
    "# Getting recent tweets from a user's timeline (Rest API)\n",
    "#######################################################################"
   ]
  },
  {
   "cell_type": "code",
   "execution_count": 10,
   "metadata": {
    "collapsed": false
   },
   "outputs": [],
   "source": [
    "# Chap02-03/twitter_get_user_timeline.py\n",
    "import sys\n",
    "import json\n",
    "from tweepy import Cursor\n",
    "\n",
    "user = 'realDonaldTrump' # Change this user name to whatever you want\n",
    "client = get_twitter_client()\n",
    "\n",
    "fname = \"user_timeline_{}.jsonl\".format(user)\n",
    "with open(fname, 'w') as f:\n",
    "    for page in Cursor(client.user_timeline, screen_name=user, count=200).pages(16):\n",
    "        for status in page:\n",
    "            f.write(json.dumps(status._json)+\"\\n\")"
   ]
  },
  {
   "cell_type": "code",
   "execution_count": 7,
   "metadata": {
    "collapsed": true
   },
   "outputs": [],
   "source": [
    "#######################################################################\n",
    "# Analyzing hastag frequencies for the user timeline pulled above\n",
    "#######################################################################"
   ]
  },
  {
   "cell_type": "code",
   "execution_count": 11,
   "metadata": {
    "collapsed": false
   },
   "outputs": [
    {
     "name": "stdout",
     "output_type": "stream",
     "text": [
      "trump2016: 191\n",
      "makeamericagreatagain: 174\n",
      "maga: 112\n",
      "americafirst: 81\n",
      "draintheswamp: 78\n",
      "imwithyou: 62\n",
      "bigleaguetruth: 58\n",
      "debate: 47\n",
      "votetrump: 42\n",
      "crookedhillary: 38\n",
      "trumppence16: 34\n",
      "trumptrain: 30\n",
      "debates2016: 24\n",
      "icymi: 22\n",
      "vpdebate: 19\n",
      "debates: 16\n",
      "rncincle: 15\n",
      "wiprimary: 13\n",
      "thankyoutour2016: 12\n",
      "nyprimary: 11\n"
     ]
    }
   ],
   "source": [
    "# Chap02-03/twitter_hashtag_frequency.py \n",
    "import sys \n",
    "from collections import Counter \n",
    "import json \n",
    "\n",
    "user = 'realDonaldTrump' # Change this user name to whatever you want\n",
    "fname = \"user_timeline_{}.jsonl\".format(user)\n",
    "\n",
    "\n",
    "def get_hashtags(tweet): \n",
    "  entities = tweet.get('entities', {}) \n",
    "  hashtags = entities.get('hashtags', []) \n",
    "  return [tag['text'].lower() for tag in hashtags]\n",
    "\n",
    "with open(fname, 'r') as f: \n",
    "    hashtags = Counter() \n",
    "    for line in f: \n",
    "        tweet = json.loads(line) \n",
    "        hashtags_in_tweet = get_hashtags(tweet) \n",
    "        hashtags.update(hashtags_in_tweet) \n",
    "    for tag, count in hashtags.most_common(20): \n",
    "        print(\"{}: {}\".format(tag, count))"
   ]
  },
  {
   "cell_type": "code",
   "execution_count": null,
   "metadata": {
    "collapsed": true
   },
   "outputs": [],
   "source": []
  }
 ],
 "metadata": {
  "anaconda-cloud": {},
  "kernelspec": {
   "display_name": "Python [conda root]",
   "language": "python",
   "name": "conda-root-py"
  },
  "language_info": {
   "codemirror_mode": {
    "name": "ipython",
    "version": 3
   },
   "file_extension": ".py",
   "mimetype": "text/x-python",
   "name": "python",
   "nbconvert_exporter": "python",
   "pygments_lexer": "ipython3",
   "version": "3.5.2"
  }
 },
 "nbformat": 4,
 "nbformat_minor": 1
}
